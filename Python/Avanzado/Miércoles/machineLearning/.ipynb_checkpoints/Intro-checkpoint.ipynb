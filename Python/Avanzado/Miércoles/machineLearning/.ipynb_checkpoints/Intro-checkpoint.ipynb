{
 "cells": [
  {
   "cell_type": "markdown",
   "metadata": {},
   "source": [
    "# Supervised Learning\n",
    "\n",
    "## Clasificación"
   ]
  },
  {
   "cell_type": "markdown",
   "metadata": {},
   "source": [
    "### Datos para el clasificador\n",
    "\n",
    "Imaginemos que recopilamos cierto número de datos de dos frutas\n",
    "\n",
    "**Características**\n",
    "\n",
    "Peso|Textura|Fruta\n",
    "---|---|---\n",
    "150|Rugosa|Naranja\n",
    "170|Rugosa|Naranja\n",
    "140|Lisa|Manzana\n",
    "130|Lisa|Manzana\n",
    "\n",
    "0 -> Rugosa\n",
    "\n",
    "1 -> Lisa\n",
    "\n"
   ]
  },
  {
   "cell_type": "markdown",
   "metadata": {},
   "source": [
    "Almacenamos las características en una matriz"
   ]
  },
  {
   "cell_type": "code",
   "execution_count": 1,
   "metadata": {},
   "outputs": [],
   "source": [
    "caractClas = [[150,0],[170,0],[140,1],[130,1]]\n",
    "#caractClas = [[150,0],[170,0],[140,1],[130,1],[125,1],[160,0],[180,0],[165,0],[125,1],[132,1]]"
   ]
  },
  {
   "cell_type": "markdown",
   "metadata": {},
   "source": [
    "Y almacenamos las etiquetas o valores objetivo en un vector"
   ]
  },
  {
   "cell_type": "code",
   "execution_count": 2,
   "metadata": {},
   "outputs": [],
   "source": [
    "etiquetasClas = ['Naranja','Naranja','Manzana','Manzana']\n",
    "#etiquetasClas = ['Naranja','Naranja','Manzana','Manzana','Manzana','Naranja','Naranja','Naranja','Manzana','Manzana']"
   ]
  },
  {
   "cell_type": "code",
   "execution_count": 3,
   "metadata": {},
   "outputs": [],
   "source": [
    "from sklearn.neighbors import KNeighborsClassifier"
   ]
  },
  {
   "cell_type": "markdown",
   "metadata": {},
   "source": [
    "Creamos un clasificador"
   ]
  },
  {
   "cell_type": "code",
   "execution_count": 4,
   "metadata": {},
   "outputs": [],
   "source": [
    "# Creamos clasificador\n",
    "clasificador = KNeighborsClassifier(n_neighbors=4)"
   ]
  },
  {
   "cell_type": "markdown",
   "metadata": {},
   "source": [
    "Entrenamos a nuestro clasificador con nuestros datos"
   ]
  },
  {
   "cell_type": "code",
   "execution_count": 5,
   "metadata": {},
   "outputs": [],
   "source": [
    "clasificador.fit(caractClas, etiquetasClas);"
   ]
  },
  {
   "cell_type": "code",
   "execution_count": 6,
   "metadata": {},
   "outputs": [],
   "source": [
    "frutaNueva = [[135,1]]"
   ]
  },
  {
   "cell_type": "markdown",
   "metadata": {},
   "source": [
    "Ahora nuestro clasificador puede realizar predicciones de nuevos datos"
   ]
  },
  {
   "cell_type": "code",
   "execution_count": 7,
   "metadata": {},
   "outputs": [
    {
     "data": {
      "text/plain": [
       "array(['Manzana'], dtype='<U7')"
      ]
     },
     "execution_count": 7,
     "metadata": {},
     "output_type": "execute_result"
    }
   ],
   "source": [
    "clasificador.predict(frutaNueva)"
   ]
  },
  {
   "cell_type": "markdown",
   "metadata": {},
   "source": [
    "## Regresión"
   ]
  },
  {
   "cell_type": "markdown",
   "metadata": {},
   "source": [
    "### Datos para el regresor\n",
    "Imaginemos que recopilamos cierto número de datos sobre calificaciones de estudiantes\n",
    "\n",
    "Horas de Estudio|Horas de sueño|Calificación\n",
    "---|---|---\n",
    "9|8|9.4\n",
    "12|6|9.2\n",
    "4|10|8.9\n",
    "8|2|6\n",
    "6|4|7.5\n",
    "6|5|7.6\n"
   ]
  },
  {
   "cell_type": "markdown",
   "metadata": {},
   "source": [
    "Almacenamos características en una matriz"
   ]
  },
  {
   "cell_type": "code",
   "execution_count": 8,
   "metadata": {},
   "outputs": [],
   "source": [
    "caractReg = [[9,8],[12,6],[4,10],[8,2],[6,4],[6,5]]"
   ]
  },
  {
   "cell_type": "markdown",
   "metadata": {},
   "source": [
    "Almacenamos etiquetas en un vector"
   ]
  },
  {
   "cell_type": "code",
   "execution_count": 9,
   "metadata": {},
   "outputs": [],
   "source": [
    "etiquetasReg = [9.4,9.2,8.9,6,7.5,7.6]"
   ]
  },
  {
   "cell_type": "code",
   "execution_count": 10,
   "metadata": {},
   "outputs": [],
   "source": [
    "from sklearn.linear_model import LinearRegression"
   ]
  },
  {
   "cell_type": "markdown",
   "metadata": {},
   "source": [
    "Creamos regresor"
   ]
  },
  {
   "cell_type": "code",
   "execution_count": 11,
   "metadata": {},
   "outputs": [],
   "source": [
    "regresor = LinearRegression()"
   ]
  },
  {
   "cell_type": "markdown",
   "metadata": {},
   "source": [
    "Entrenamos a nuestro regresor con nuestros datos"
   ]
  },
  {
   "cell_type": "code",
   "execution_count": 12,
   "metadata": {},
   "outputs": [],
   "source": [
    "regresor.fit(caractReg, etiquetasReg);"
   ]
  },
  {
   "cell_type": "code",
   "execution_count": 13,
   "metadata": {},
   "outputs": [],
   "source": [
    "estudianteNuevo = [[9,0]]"
   ]
  },
  {
   "cell_type": "markdown",
   "metadata": {},
   "source": [
    "Ahora nuestro regresor puede realizar predicciones nuevas"
   ]
  },
  {
   "cell_type": "code",
   "execution_count": 14,
   "metadata": {},
   "outputs": [
    {
     "data": {
      "text/plain": [
       "array([5.88922544])"
      ]
     },
     "execution_count": 14,
     "metadata": {},
     "output_type": "execute_result"
    }
   ],
   "source": [
    "regresor.predict(estudianteNuevo)"
   ]
  },
  {
   "cell_type": "markdown",
   "metadata": {},
   "source": [
    "# Unsupervised Learning"
   ]
  },
  {
   "cell_type": "markdown",
   "metadata": {},
   "source": [
    "## Clustering\n",
    "\n",
    "### Datos\n",
    "\n",
    "Imaginemos que contamos con datos de algunos perros\n",
    "\n",
    "Tamaño|Peso|Raza\n",
    "---|---|---\n",
    "Grande|35| Gran Danés\n",
    "Mediano|20| Pastor Alemán\n",
    "Pequeño|4| Chihuahua\n",
    "Grande|30|Gran Danés\n",
    "Mediano|25|Pastor Alemán\n",
    "Pequeño|10|Chihuaha\n",
    "Grande|40|Gran Danés\n",
    "Mediano|25|Pastor Alemán\n",
    "Pequeño|6|Chihuaha\n",
    "\n",
    "Grande -> 2\n",
    "\n",
    "Mediano -> 1\n",
    "\n",
    "Pequeño -> 0\n"
   ]
  },
  {
   "cell_type": "markdown",
   "metadata": {},
   "source": [
    "Almacenamos características en matriz"
   ]
  },
  {
   "cell_type": "code",
   "execution_count": 15,
   "metadata": {},
   "outputs": [],
   "source": [
    "caractClust = [[2,35],[1,20],[0,4],[2,30],[1,25],[0,10],[2,40],[1,25],[0,6]]"
   ]
  },
  {
   "cell_type": "code",
   "execution_count": 16,
   "metadata": {},
   "outputs": [],
   "source": [
    "from sklearn.cluster import KMeans"
   ]
  },
  {
   "cell_type": "markdown",
   "metadata": {},
   "source": [
    "Creamos modelo de clustering, definimos número de clusters"
   ]
  },
  {
   "cell_type": "code",
   "execution_count": 17,
   "metadata": {},
   "outputs": [],
   "source": [
    "modelo = KMeans(n_clusters=3)"
   ]
  },
  {
   "cell_type": "markdown",
   "metadata": {},
   "source": [
    "Entrenamos nuestro modelo con los datos"
   ]
  },
  {
   "cell_type": "code",
   "execution_count": 18,
   "metadata": {},
   "outputs": [],
   "source": [
    "modelo.fit(caractClust);"
   ]
  },
  {
   "cell_type": "markdown",
   "metadata": {},
   "source": [
    "El modelo determina las posiciones de los grupos dependiendo de los datos, después de esto, podemos preguntar por el grupo de pertenencia de nuevos datos"
   ]
  },
  {
   "cell_type": "code",
   "execution_count": 19,
   "metadata": {},
   "outputs": [
    {
     "data": {
      "text/plain": [
       "array([0], dtype=int32)"
      ]
     },
     "execution_count": 19,
     "metadata": {},
     "output_type": "execute_result"
    }
   ],
   "source": [
    "modelo.predict([[0,16]]) # Determina que pertenece al grupo de los pastores alemanes"
   ]
  }
 ],
 "metadata": {
  "kernelspec": {
   "display_name": "Python 3",
   "language": "python",
   "name": "python3"
  },
  "language_info": {
   "codemirror_mode": {
    "name": "ipython",
    "version": 3
   },
   "file_extension": ".py",
   "mimetype": "text/x-python",
   "name": "python",
   "nbconvert_exporter": "python",
   "pygments_lexer": "ipython3",
   "version": "3.6.5"
  }
 },
 "nbformat": 4,
 "nbformat_minor": 2
}
