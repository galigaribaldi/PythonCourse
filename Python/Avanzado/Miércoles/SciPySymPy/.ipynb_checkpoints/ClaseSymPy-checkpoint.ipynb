{
 "cells": [
  {
   "cell_type": "markdown",
   "metadata": {},
   "source": [
    "# SymPy\n",
    "\n",
    "## Introducción \n",
    "La computación simbólica sirve para hacer cálculos computacionales de manera simbólica, lo cual significa que los objetos matemáticos buscan ser representados de manera exacta y no mediante aproximaciones, por ejemplo..."
   ]
  },
  {
   "cell_type": "code",
   "execution_count": 1,
   "metadata": {},
   "outputs": [
    {
     "data": {
      "text/plain": [
       "3.0"
      ]
     },
     "execution_count": 1,
     "metadata": {},
     "output_type": "execute_result"
    }
   ],
   "source": [
    "import math\n",
    "math.sqrt(9)"
   ]
  },
  {
   "cell_type": "code",
   "execution_count": 2,
   "metadata": {},
   "outputs": [
    {
     "data": {
      "text/plain": [
       "2.8284271247461903"
      ]
     },
     "execution_count": 2,
     "metadata": {},
     "output_type": "execute_result"
    }
   ],
   "source": [
    "math.sqrt(8)"
   ]
  },
  {
   "cell_type": "code",
   "execution_count": 3,
   "metadata": {},
   "outputs": [
    {
     "data": {
      "text/plain": [
       "2*sqrt(2)"
      ]
     },
     "execution_count": 3,
     "metadata": {},
     "output_type": "execute_result"
    }
   ],
   "source": [
    "import sympy\n",
    "sympy.sqrt(8)"
   ]
  },
  {
   "cell_type": "markdown",
   "metadata": {},
   "source": [
    "Con SymPy, las raíces cuadradas de numeros que no son cuadrados perfectos, no se evalúan por default"
   ]
  },
  {
   "cell_type": "code",
   "execution_count": 4,
   "metadata": {},
   "outputs": [
    {
     "data": {
      "image/png": "[encoded data removed]",
      "text/latex": [
       "$$2 \\sqrt{2}$$"
      ],
      "text/plain": [
       "2⋅√2"
      ]
     },
     "execution_count": 4,
     "metadata": {},
     "output_type": "execute_result"
    }
   ],
   "source": [
    "from sympy import init_printing\n",
    "#Existen muchas formas de imprimir algo, las más comunes son:\n",
    "#LaTeX, Dot, ASCII pretty printer, unicode pretty printer etc\n",
    "#si sólo queremos que nuestra expresión se vea bonita, usamos init_printing()\n",
    "init_printing()\n",
    "sympy.sqrt(8)\n"
   ]
  },
  {
   "cell_type": "markdown",
   "metadata": {},
   "source": [
    "# Manejo de símbolos"
   ]
  },
  {
   "cell_type": "code",
   "execution_count": 5,
   "metadata": {},
   "outputs": [
    {
     "data": {
      "image/png": "[encoded data removed]",
      "text/latex": [
       "$$x$$"
      ],
      "text/plain": [
       "x"
      ]
     },
     "execution_count": 5,
     "metadata": {},
     "output_type": "execute_result"
    }
   ],
   "source": [
    "from sympy import symbols,S,exp\n",
    "x=symbols('x')\n",
    "x"
   ]
  },
  {
   "cell_type": "code",
   "execution_count": 23,
   "metadata": {},
   "outputs": [
    {
     "data": {
      "image/png": "[encoded data removed]",
      "text/latex": [
       "$$e^{2}$$"
      ],
      "text/plain": [
       " 2\n",
       "ℯ "
      ]
     },
     "execution_count": 23,
     "metadata": {},
     "output_type": "execute_result"
    }
   ],
   "source": [
    "exp(2)"
   ]
  },
  {
   "cell_type": "code",
   "execution_count": 6,
   "metadata": {},
   "outputs": [
    {
     "data": {
      "image/png": "[encoded data removed]",
      "text/latex": [
       "$$x + 1$$"
      ],
      "text/plain": [
       "x + 1"
      ]
     },
     "execution_count": 6,
     "metadata": {},
     "output_type": "execute_result"
    }
   ],
   "source": [
    "x+1"
   ]
  },
  {
   "cell_type": "code",
   "execution_count": 7,
   "metadata": {},
   "outputs": [
    {
     "data": {
      "image/png": "[encoded data removed]",
      "text/latex": [
       "$$3 x + \\frac{1}{2}$$"
      ],
      "text/plain": [
       "3⋅x + 1/2"
      ]
     },
     "execution_count": 7,
     "metadata": {},
     "output_type": "execute_result"
    }
   ],
   "source": [
    "x*3 + S(1)/2"
   ]
  },
  {
   "cell_type": "code",
   "execution_count": 9,
   "metadata": {},
   "outputs": [
    {
     "data": {
      "image/png": "[encoded data removed]",
      "text/latex": [
       "$$3 x + 0.5$$"
      ],
      "text/plain": [
       "3⋅x + 0.5"
      ]
     },
     "execution_count": 9,
     "metadata": {},
     "output_type": "execute_result"
    }
   ],
   "source": [
    "x*3 + 1/2"
   ]
  },
  {
   "cell_type": "code",
   "execution_count": 12,
   "metadata": {},
   "outputs": [
    {
     "data": {
      "image/png": "[encoded data removed]",
      "text/latex": [
       "$$x^{2} + e^{x}$$"
      ],
      "text/plain": [
       " 2    x\n",
       "x  + ℯ "
      ]
     },
     "execution_count": 12,
     "metadata": {},
     "output_type": "execute_result"
    }
   ],
   "source": [
    "y = symbols('y')\n",
    "expr1 = exp(x) + x**2\n",
    "expr1"
   ]
  },
  {
   "cell_type": "code",
   "execution_count": 13,
   "metadata": {},
   "outputs": [
    {
     "name": "stdout",
     "output_type": "stream",
     "text": [
      "x**2 + exp(x)\n"
     ]
    }
   ],
   "source": [
    "print(expr1)"
   ]
  },
  {
   "cell_type": "code",
   "execution_count": 15,
   "metadata": {},
   "outputs": [
    {
     "data": {
      "image/png": "[encoded data removed]",
      "text/latex": [
       "$$y^{2} + 3 y - 2$$"
      ],
      "text/plain": [
       " 2          \n",
       "y  + 3⋅y - 2"
      ]
     },
     "execution_count": 15,
     "metadata": {},
     "output_type": "execute_result"
    }
   ],
   "source": [
    "expr2 = y**2 + 3*y-2\n",
    "expr2"
   ]
  },
  {
   "cell_type": "code",
   "execution_count": 17,
   "metadata": {},
   "outputs": [
    {
     "data": {
      "image/png": "[encoded data removed]",
      "text/latex": [
       "$$\\frac{x^{2} + e^{x}}{y^{2} + 3 y - 2}$$"
      ],
      "text/plain": [
       "   2    x   \n",
       "  x  + ℯ    \n",
       "────────────\n",
       " 2          \n",
       "y  + 3⋅y - 2"
      ]
     },
     "execution_count": 17,
     "metadata": {},
     "output_type": "execute_result"
    }
   ],
   "source": [
    "expr3 = expr1/expr2\n",
    "expr3"
   ]
  },
  {
   "cell_type": "code",
   "execution_count": 18,
   "metadata": {},
   "outputs": [
    {
     "data": {
      "image/png": "[encoded data removed]",
      "text/latex": [
       "$$\\frac{4 + e^{2}}{y^{2} + 3 y - 2}$$"
      ],
      "text/plain": [
       "        2   \n",
       "   4 + ℯ    \n",
       "────────────\n",
       " 2          \n",
       "y  + 3⋅y - 2"
      ]
     },
     "execution_count": 18,
     "metadata": {},
     "output_type": "execute_result"
    }
   ],
   "source": [
    "expr3.subs(x,2) #Sustituye el valor de x por 2"
   ]
  },
  {
   "cell_type": "code",
   "execution_count": 19,
   "metadata": {},
   "outputs": [
    {
     "data": {
      "image/png": "[encoded data removed]",
      "text/latex": [
       "$$x^{2} + x + \\frac{1}{2}$$"
      ],
      "text/plain": [
       " 2       1\n",
       "x  + x + ─\n",
       "         2"
      ]
     },
     "execution_count": 19,
     "metadata": {},
     "output_type": "execute_result"
    }
   ],
   "source": [
    "expr4 = x + S(1)/2 + x**2 \n",
    "expr4"
   ]
  },
  {
   "cell_type": "code",
   "execution_count": 20,
   "metadata": {},
   "outputs": [
    {
     "data": {
      "image/png": "[encoded data removed]",
      "text/latex": [
       "$$3 x^{2} + x$$"
      ],
      "text/plain": [
       "   2    \n",
       "3⋅x  + x"
      ]
     },
     "execution_count": 20,
     "metadata": {},
     "output_type": "execute_result"
    }
   ],
   "source": [
    "expr5 = x+3*x**2\n",
    "expr5"
   ]
  },
  {
   "cell_type": "code",
   "execution_count": 21,
   "metadata": {},
   "outputs": [
    {
     "data": {
      "image/png": "[encoded data removed]",
      "text/latex": [
       "$$4 x^{2} + 2 x + \\frac{1}{2}$$"
      ],
      "text/plain": [
       "   2         1\n",
       "4⋅x  + 2⋅x + ─\n",
       "             2"
      ]
     },
     "execution_count": 21,
     "metadata": {},
     "output_type": "execute_result"
    }
   ],
   "source": [
    "expr4 + expr5"
   ]
  },
  {
   "cell_type": "markdown",
   "metadata": {},
   "source": [
    "# Simplificación "
   ]
  },
  {
   "cell_type": "code",
   "execution_count": 27,
   "metadata": {},
   "outputs": [
    {
     "data": {
      "image/png": "[encoded data removed]",
      "text/latex": [
       "$$\\sin^{2}{\\left (X \\right )} + \\cos^{2}{\\left (X \\right )}$$"
      ],
      "text/plain": [
       "   2         2   \n",
       "sin (X) + cos (X)"
      ]
     },
     "execution_count": 27,
     "metadata": {},
     "output_type": "execute_result"
    }
   ],
   "source": [
    "from sympy import simplify,sin,cos,expand\n",
    "x,y,z = symbols('x y z')\n",
    "uno = sin(x)**2 + cos(x)**2\n",
    "uno"
   ]
  },
  {
   "cell_type": "code",
   "execution_count": 28,
   "metadata": {},
   "outputs": [
    {
     "data": {
      "image/png": "[encoded data removed]",
      "text/latex": [
       "$$1$$"
      ],
      "text/plain": [
       "1"
      ]
     },
     "execution_count": 28,
     "metadata": {},
     "output_type": "execute_result"
    }
   ],
   "source": [
    "simplify(uno)"
   ]
  },
  {
   "cell_type": "code",
   "execution_count": 30,
   "metadata": {},
   "outputs": [
    {
     "data": {
      "image/png": "[encoded data removed]",
      "text/latex": [
       "$$\\frac{X^{3} + X^{2} - X - 1}{X^{2} + 2 X + 1}$$"
      ],
      "text/plain": [
       " 3    2        \n",
       "X  + X  - X - 1\n",
       "───────────────\n",
       "   2           \n",
       "  X  + 2⋅X + 1 "
      ]
     },
     "execution_count": 30,
     "metadata": {},
     "output_type": "execute_result"
    }
   ],
   "source": [
    "wea = (x**3 + x**2 - x - 1)/(x**2 + 2*x + 1)\n",
    "wea"
   ]
  },
  {
   "cell_type": "code",
   "execution_count": 32,
   "metadata": {},
   "outputs": [
    {
     "data": {
      "image/png": "[encoded data removed]",
      "text/latex": [
       "$$X - 1$$"
      ],
      "text/plain": [
       "X - 1"
      ]
     },
     "execution_count": 32,
     "metadata": {},
     "output_type": "execute_result"
    }
   ],
   "source": [
    "simplify(wea)"
   ]
  },
  {
   "cell_type": "code",
   "execution_count": 33,
   "metadata": {},
   "outputs": [
    {
     "data": {
      "image/png": "[encoded data removed]",
      "text/latex": [
       "$$\\left(X + 1\\right)^{2}$$"
      ],
      "text/plain": [
       "       2\n",
       "(X + 1) "
      ]
     },
     "execution_count": 33,
     "metadata": {},
     "output_type": "execute_result"
    }
   ],
   "source": [
    "#Ahora, veamos la función expand para desarrollar expresiones\n",
    "bincuadr = (x+1)**2\n",
    "bincuadr"
   ]
  },
  {
   "cell_type": "code",
   "execution_count": 34,
   "metadata": {},
   "outputs": [
    {
     "data": {
      "image/png": "[encoded data removed]",
      "text/latex": [
       "$$X^{2} + 2 X + 1$$"
      ],
      "text/plain": [
       " 2          \n",
       "X  + 2⋅X + 1"
      ]
     },
     "execution_count": 34,
     "metadata": {},
     "output_type": "execute_result"
    }
   ],
   "source": [
    "expand(bincuadr)"
   ]
  },
  {
   "cell_type": "markdown",
   "metadata": {},
   "source": [
    "# Sustitución y evaluación"
   ]
  },
  {
   "cell_type": "code",
   "execution_count": 37,
   "metadata": {},
   "outputs": [
    {
     "data": {
      "image/png": "[encoded data removed]",
      "text/latex": [
       "$$\\frac{\\left(X^{2} + e^{- Z} \\log{\\left (Y \\right )}\\right) \\log{\\left (Y \\right )}}{\\tan{\\left (X \\right )}}$$"
      ],
      "text/plain": [
       "⎛ 2    -Z       ⎞       \n",
       "⎝X  + ℯ  ⋅log(Y)⎠⋅log(Y)\n",
       "────────────────────────\n",
       "         tan(X)         "
      ]
     },
     "execution_count": 37,
     "metadata": {},
     "output_type": "execute_result"
    }
   ],
   "source": [
    "from sympy import tan, log, evalf\n",
    "expr = (x**2 + log(y)/exp(z))/tan(x)*log(y)\n",
    "expr"
   ]
  },
  {
   "cell_type": "code",
   "execution_count": 38,
   "metadata": {},
   "outputs": [
    {
     "data": {
      "image/png": "[encoded data removed]",
      "text/latex": [
       "$$\\frac{\\left(X^{2} + e^{- Z} \\log{\\left (3 \\right )}\\right) \\log{\\left (3 \\right )}}{\\tan{\\left (X \\right )}}$$"
      ],
      "text/plain": [
       "⎛ 2    -Z       ⎞       \n",
       "⎝X  + ℯ  ⋅log(3)⎠⋅log(3)\n",
       "────────────────────────\n",
       "         tan(X)         "
      ]
     },
     "execution_count": 38,
     "metadata": {},
     "output_type": "execute_result"
    }
   ],
   "source": [
    "#Subs es un método que se aplica a una expresión, lo que hace es sustituir el símbolo indicado como primer argumento por lo\n",
    "#que le pasemos como segundo argumento.\n",
    "\n",
    "expr.subs(y,3)"
   ]
  },
  {
   "cell_type": "code",
   "execution_count": 39,
   "metadata": {},
   "outputs": [
    {
     "data": {
      "image/png": "[encoded data removed]",
      "text/latex": [
       "$$\\frac{\\left(X^{2} + e^{- Z} \\log{\\left (X^{3} + Z \\right )}\\right) \\log{\\left (X^{3} + Z \\right )}}{\\tan{\\left (X \\right )}}$$"
      ],
      "text/plain": [
       "⎛ 2    -Z    ⎛ 3    ⎞⎞    ⎛ 3    ⎞\n",
       "⎝X  + ℯ  ⋅log⎝X  + Z⎠⎠⋅log⎝X  + Z⎠\n",
       "──────────────────────────────────\n",
       "              tan(X)              "
      ]
     },
     "execution_count": 39,
     "metadata": {},
     "output_type": "execute_result"
    }
   ],
   "source": [
    "#Como se observa, no hace únicamente sustituciones por números o variables, sino que puede llevarse a cabo comosición de funciones\n",
    "\n",
    "expr.subs(y,x**3 + z)"
   ]
  },
  {
   "cell_type": "code",
   "execution_count": 41,
   "metadata": {},
   "outputs": [
    {
     "data": {
      "image/png": "[encoded data removed]",
      "text/latex": [
       "$$\\frac{\\left(X^{2} + e^{- Z} \\log{\\left (X^{3} + Z \\right )}\\right) \\log{\\left (X^{3} + Z \\right )}}{\\tan{\\left (X \\right )}}$$"
      ],
      "text/plain": [
       "⎛ 2    -Z    ⎛ 3    ⎞⎞    ⎛ 3    ⎞\n",
       "⎝X  + ℯ  ⋅log⎝X  + Z⎠⎠⋅log⎝X  + Z⎠\n",
       "──────────────────────────────────\n",
       "              tan(X)              "
      ]
     },
     "execution_count": 41,
     "metadata": {},
     "output_type": "execute_result"
    }
   ],
   "source": [
    "expr2 = expr.subs(y,x**3+z)\n",
    "expr2"
   ]
  },
  {
   "cell_type": "code",
   "execution_count": 42,
   "metadata": {},
   "outputs": [
    {
     "data": {
      "image/png": "[encoded data removed]",
      "text/latex": [
       "$$\\frac{\\left(X^{2} e^{Z} + \\log{\\left (X^{3} + Z \\right )}\\right) e^{- Z} \\log{\\left (X^{3} + Z \\right )}}{\\tan{\\left (X \\right )}}$$"
      ],
      "text/plain": [
       "⎛ 2  Z      ⎛ 3    ⎞⎞  -Z    ⎛ 3    ⎞\n",
       "⎝X ⋅ℯ  + log⎝X  + Z⎠⎠⋅ℯ  ⋅log⎝X  + Z⎠\n",
       "─────────────────────────────────────\n",
       "                tan(X)               "
      ]
     },
     "execution_count": 42,
     "metadata": {},
     "output_type": "execute_result"
    }
   ],
   "source": [
    "simplificada = simplify(expr2)\n",
    "simplificada"
   ]
  },
  {
   "cell_type": "code",
   "execution_count": 44,
   "metadata": {},
   "outputs": [
    {
     "data": {
      "image/png": "[encoded data removed]",
      "text/latex": [
       "$$\\frac{\\left(\\log{\\left (33 \\right )} + 9 e^{6}\\right) \\log{\\left (33 \\right )}}{e^{6} \\tan{\\left (3 \\right )}}$$"
      ],
      "text/plain": [
       "⎛             6⎞  -6        \n",
       "⎝log(33) + 9⋅ℯ ⎠⋅ℯ  ⋅log(33)\n",
       "────────────────────────────\n",
       "           tan(3)           "
      ]
     },
     "execution_count": 44,
     "metadata": {},
     "output_type": "execute_result"
    }
   ],
   "source": [
    "#También es posible hacer sustituciones en expresiones multivariable\n",
    "evaluada = simplificada.subs([(x,3),(y,2),(z,6)])\n",
    "evaluada"
   ]
  },
  {
   "cell_type": "code",
   "execution_count": 46,
   "metadata": {},
   "outputs": [
    {
     "data": {
      "image/png": "[encoded data removed]",
      "text/latex": [
       "$$-220.97$$"
      ],
      "text/plain": [
       "-220.97"
      ]
     },
     "execution_count": 46,
     "metadata": {},
     "output_type": "execute_result"
    }
   ],
   "source": [
    "#Para obtener el valor numérico de una expresión simbólica, usamos el método evalf.\n",
    "#El argumento indica el número de dígitos con el cualqueremos que la cifra sea expresada\n",
    "evaluada.evalf(5)"
   ]
  },
  {
   "cell_type": "code",
   "execution_count": 47,
   "metadata": {},
   "outputs": [
    {
     "data": {
      "image/png": "[encoded data removed]",
      "text/latex": [
       "$$-220.9725436$$"
      ],
      "text/plain": [
       "-220.9725436"
      ]
     },
     "execution_count": 47,
     "metadata": {},
     "output_type": "execute_result"
    }
   ],
   "source": [
    "evaluada.evalf(10)"
   ]
  },
  {
   "cell_type": "code",
   "execution_count": 50,
   "metadata": {},
   "outputs": [
    {
     "data": {
      "image/png": "[encoded data removed]",
      "text/latex": [
       "$$-220.972543563932$$"
      ],
      "text/plain": [
       "-220.972543563932"
      ]
     },
     "execution_count": 50,
     "metadata": {},
     "output_type": "execute_result"
    }
   ],
   "source": [
    "evaluada.evalf()"
   ]
  },
  {
   "cell_type": "markdown",
   "metadata": {},
   "source": [
    "# Lambdify\n",
    "\n",
    "\n",
    "Este módulo provee funciones para transformar expresiones de sympy en funciones lambda, que pueden usarse para hacer calculos MUY VELOCES."
   ]
  },
  {
   "cell_type": "code",
   "execution_count": 52,
   "metadata": {},
   "outputs": [
    {
     "data": {
      "image/png": "[encoded data removed]",
      "text/latex": [
       "$$\\left(\\left(x + 1\\right)^{2} + 1\\right)^{2}$$"
      ],
      "text/plain": [
       "              2\n",
       "⎛       2    ⎞ \n",
       "⎝(x + 1)  + 1⎠ "
      ]
     },
     "execution_count": 52,
     "metadata": {},
     "output_type": "execute_result"
    }
   ],
   "source": [
    "from sympy import lambdify\n",
    "import numpy as np\n",
    "a = np.arange(10)\n",
    "x = symbols('x')\n",
    "expr = ((x+1)**2 + 1)**2\n",
    "expr"
   ]
  },
  {
   "cell_type": "code",
   "execution_count": 53,
   "metadata": {},
   "outputs": [
    {
     "data": {
      "image/png": "[encoded data removed]",
      "text/latex": [
       "$$\\left(\\left(x^{2} + 1\\right)^{2} + 1\\right)^{2}$$"
      ],
      "text/plain": [
       "               2\n",
       "⎛        2    ⎞ \n",
       "⎜⎛ 2    ⎞     ⎟ \n",
       "⎝⎝x  + 1⎠  + 1⎠ "
      ]
     },
     "execution_count": 53,
     "metadata": {},
     "output_type": "execute_result"
    }
   ],
   "source": [
    "expr = expr.subs(x,x**2)\n",
    "expr"
   ]
  },
  {
   "cell_type": "code",
   "execution_count": 56,
   "metadata": {},
   "outputs": [
    {
     "name": "stdout",
     "output_type": "stream",
     "text": [
      "1.98 s ± 277 ms per loop (mean ± std. dev. of 7 runs, 1 loop each)\n"
     ]
    }
   ],
   "source": [
    "%%timeit\n",
    "lista = []\n",
    "for i in range(1000):\n",
    "    resultado = expr.subs(x,i).evalf()\n",
    "    lista.append(resultado)\n",
    "    \n",
    "#Mucho ojo en la velocidad, expresada en segundos para este caso"
   ]
  },
  {
   "cell_type": "code",
   "execution_count": 75,
   "metadata": {},
   "outputs": [
    {
     "name": "stdout",
     "output_type": "stream",
     "text": [
      "5.08 ms ± 59.4 µs per loop (mean ± std. dev. of 7 runs, 100 loops each)\n"
     ]
    }
   ],
   "source": [
    "%%timeit\n",
    "a = np.arange(1000)\n",
    "f = lambdify(x,expr,'numpy') #(argumentos, expresión, módulos)\n",
    "f(a)\n",
    "\n",
    "#WTF!!!! hizo exactamente lo mismo que la linea anterior pero en milisegundos!!!"
   ]
  },
  {
   "cell_type": "markdown",
   "metadata": {},
   "source": [
    "# Cálculo"
   ]
  },
  {
   "cell_type": "code",
   "execution_count": 76,
   "metadata": {},
   "outputs": [],
   "source": [
    "from sympy import diff,limit,oo,integrate"
   ]
  },
  {
   "cell_type": "code",
   "execution_count": 77,
   "metadata": {},
   "outputs": [
    {
     "data": {
      "image/png": "[encoded data removed]",
      "text/latex": [
       "$$x^{3} + 2 x^{2} + 5 x + 8$$"
      ],
      "text/plain": [
       " 3      2          \n",
       "x  + 2⋅x  + 5⋅x + 8"
      ]
     },
     "execution_count": 77,
     "metadata": {},
     "output_type": "execute_result"
    }
   ],
   "source": [
    "x,y = symbols('x y')\n",
    "expr = x**3 + 2*x**2 + 5*x + 8\n",
    "expr"
   ]
  },
  {
   "cell_type": "code",
   "execution_count": 78,
   "metadata": {},
   "outputs": [
    {
     "data": {
      "image/png": "[encoded data removed]",
      "text/latex": [
       "$$3 x^{2} + 4 x + 5$$"
      ],
      "text/plain": [
       "   2          \n",
       "3⋅x  + 4⋅x + 5"
      ]
     },
     "execution_count": 78,
     "metadata": {},
     "output_type": "execute_result"
    }
   ],
   "source": [
    "derivada = diff(expr,x)#(expresión, variable respecto a la cual se deriva, orden de la derivada)\n",
    "derivada"
   ]
  },
  {
   "cell_type": "code",
   "execution_count": 80,
   "metadata": {},
   "outputs": [
    {
     "data": {
      "image/png": "[encoded data removed]",
      "text/latex": [
       "$$2 \\left(3 x + 2\\right)$$"
      ],
      "text/plain": [
       "2⋅(3⋅x + 2)"
      ]
     },
     "execution_count": 80,
     "metadata": {},
     "output_type": "execute_result"
    }
   ],
   "source": [
    "diff(expr,x,2)"
   ]
  },
  {
   "cell_type": "code",
   "execution_count": 81,
   "metadata": {},
   "outputs": [
    {
     "data": {
      "image/png": "[encoded data removed]",
      "text/latex": [
       "$$3 x^{3} y + y^{3}$$"
      ],
      "text/plain": [
       "   3      3\n",
       "3⋅x ⋅y + y "
      ]
     },
     "execution_count": 81,
     "metadata": {},
     "output_type": "execute_result"
    }
   ],
   "source": [
    "expr2 = 3*y*x**3 + y**3\n",
    "expr2"
   ]
  },
  {
   "cell_type": "code",
   "execution_count": 82,
   "metadata": {},
   "outputs": [
    {
     "data": {
      "image/png": "[encoded data removed]",
      "text/latex": [
       "$$6$$"
      ],
      "text/plain": [
       "6"
      ]
     },
     "execution_count": 82,
     "metadata": {},
     "output_type": "execute_result"
    }
   ],
   "source": [
    "diff(expr2,y,3)"
   ]
  },
  {
   "cell_type": "code",
   "execution_count": 84,
   "metadata": {},
   "outputs": [
    {
     "data": {
      "image/png": "[encoded data removed]",
      "text/latex": [
       "$$\\frac{1}{x}$$"
      ],
      "text/plain": [
       "1\n",
       "─\n",
       "x"
      ]
     },
     "execution_count": 84,
     "metadata": {},
     "output_type": "execute_result"
    }
   ],
   "source": [
    "expr3 = 1/x\n",
    "expr3"
   ]
  },
  {
   "cell_type": "code",
   "execution_count": 85,
   "metadata": {},
   "outputs": [
    {
     "data": {
      "image/png": "[encoded data removed]",
      "text/latex": [
       "$$\\frac{1}{3}$$"
      ],
      "text/plain": [
       "1/3"
      ]
     },
     "execution_count": 85,
     "metadata": {},
     "output_type": "execute_result"
    }
   ],
   "source": [
    "limit(expr3,x,3)"
   ]
  },
  {
   "cell_type": "code",
   "execution_count": 86,
   "metadata": {},
   "outputs": [
    {
     "data": {
      "image/png": "[encoded data removed]",
      "text/latex": [
       "$$\\infty$$"
      ],
      "text/plain": [
       "∞"
      ]
     },
     "execution_count": 86,
     "metadata": {},
     "output_type": "execute_result"
    }
   ],
   "source": [
    "limit(expr3,x,0)"
   ]
  },
  {
   "cell_type": "code",
   "execution_count": 87,
   "metadata": {},
   "outputs": [
    {
     "data": {
      "image/png": "[encoded data removed]",
      "text/latex": [
       "$$0$$"
      ],
      "text/plain": [
       "0"
      ]
     },
     "execution_count": 87,
     "metadata": {},
     "output_type": "execute_result"
    }
   ],
   "source": [
    "limit(expr3,x,oo) # oo es la expresión de infinito"
   ]
  },
  {
   "cell_type": "code",
   "execution_count": 88,
   "metadata": {},
   "outputs": [
    {
     "data": {
      "image/png": "[encoded data removed]",
      "text/latex": [
       "$$\\log{\\left (x \\right )}$$"
      ],
      "text/plain": [
       "log(x)"
      ]
     },
     "execution_count": 88,
     "metadata": {},
     "output_type": "execute_result"
    }
   ],
   "source": [
    "#para integrar: integrate(expr,(variable,lim inf, lim sup))\n",
    "integrate(expr3,x)"
   ]
  },
  {
   "cell_type": "code",
   "execution_count": 89,
   "metadata": {},
   "outputs": [
    {
     "data": {
      "image/png": "[encoded data removed]",
      "text/latex": [
       "$$\\cos^{2}{\\left (x \\right )} + 3$$"
      ],
      "text/plain": [
       "   2       \n",
       "cos (x) + 3"
      ]
     },
     "execution_count": 89,
     "metadata": {},
     "output_type": "execute_result"
    }
   ],
   "source": [
    "expr4 = cos(x) ** 2 +3\n",
    "expr4"
   ]
  },
  {
   "cell_type": "code",
   "execution_count": 90,
   "metadata": {},
   "outputs": [
    {
     "data": {
      "image/png": "[encoded data removed]",
      "text/latex": [
       "$$\\frac{7 x}{2} + \\frac{\\sin{\\left (x \\right )} \\cos{\\left (x \\right )}}{2}$$"
      ],
      "text/plain": [
       "7⋅x   sin(x)⋅cos(x)\n",
       "─── + ─────────────\n",
       " 2          2      "
      ]
     },
     "execution_count": 90,
     "metadata": {},
     "output_type": "execute_result"
    }
   ],
   "source": [
    "integrate(expr4,x)"
   ]
  },
  {
   "cell_type": "code",
   "execution_count": 94,
   "metadata": {},
   "outputs": [
    {
     "data": {
      "image/png": "[encoded data removed]",
      "text/latex": [
       "$$\\frac{\\sin{\\left (3 \\right )} \\cos{\\left (3 \\right )}}{2} + \\frac{21}{2}$$"
      ],
      "text/plain": [
       "sin(3)⋅cos(3)   21\n",
       "───────────── + ──\n",
       "      2         2 "
      ]
     },
     "execution_count": 94,
     "metadata": {},
     "output_type": "execute_result"
    }
   ],
   "source": [
    "integrada = integrate(expr4,(x,0,3))\n",
    "integrada"
   ]
  },
  {
   "cell_type": "code",
   "execution_count": 95,
   "metadata": {},
   "outputs": [
    {
     "data": {
      "image/png": "[encoded data removed]",
      "text/latex": [
       "$$10.4301461254503$$"
      ],
      "text/plain": [
       "10.4301461254503"
      ]
     },
     "execution_count": 95,
     "metadata": {},
     "output_type": "execute_result"
    }
   ],
   "source": [
    "integrada.evalf() "
   ]
  }
 ],
 "metadata": {
  "kernelspec": {
   "display_name": "Python 3",
   "language": "python",
   "name": "python3"
  },
  "language_info": {
   "codemirror_mode": {
    "name": "ipython",
    "version": 3
   },
   "file_extension": ".py",
   "mimetype": "text/x-python",
   "name": "python",
   "nbconvert_exporter": "python",
   "pygments_lexer": "ipython3",
   "version": "3.6.5"
  }
 },
 "nbformat": 4,
 "nbformat_minor": 2
}
