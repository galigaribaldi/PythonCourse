{
 "cells": [
  {
   "cell_type": "code",
   "execution_count": null,
   "metadata": {},
   "outputs": [],
   "source": [
    "####Declaramos lo necesario para el uso de la biblioteca\n",
    "import tweepy\n",
    "from pprint import pprint as pp\n",
    "llave = \"\"\n",
    "secreto = \"\"\n",
    "\n",
    "access_token  = \"\"\n",
    "access_token_secret = \"\"\n",
    "\n",
    "\n",
    "auth = tweepy.OAuthHandler(llave,secreto) ### Se conecta mediante el protocolo OAuth\n",
    "###Token que obtenemos de nuestra app\n",
    "auth.set_access_token(access_token,access_token_secret)\n",
    "\n",
    "api = tweepy.API(auth) ### Manejador de autenticaciones."
   ]
  },
  {
   "cell_type": "code",
   "execution_count": null,
   "metadata": {},
   "outputs": [],
   "source": [
    "public_tweets = api.home_timeline(count=30)###regresa los ultimos 30 status en noticias\n",
    "##incluye retweets. eq a /timeline/home \n",
    "#regresa una lista de objetos status\n",
    "for tweet in public_tweets:\n",
    "    print(tweet.user.name+\":\")\n",
    "    print(tweet.text)\n",
    "    print(\"########################\")"
   ]
  },
  {
   "cell_type": "code",
   "execution_count": null,
   "metadata": {},
   "outputs": [],
   "source": [
    "###Trabajar con un usuario\n",
    "diego = api.get_user(\"@ChockoNorris\")\n",
    "\n",
    "print(dir(diego))#ver objetos\n",
    "print(diego.followers_count)##ver su numero de seguidores\n",
    "print(diego.screen_name)###su nombre\n",
    "print(\"############\")\n",
    "print(diego.status.text)# Texto de su ultimo estado\n",
    "print(diego.id)# identificador de diego\n",
    "\n",
    "print(diego.profile_image_url)# URL de su foto de perfil\n",
    "diego.unfollow()## o unfollow\n",
    "print(diego.following)##Ver si lo estamos siguiendo\n",
    "print(diego.created_at)##Fecha de creacion de su perfil\n",
    "\n",
    "print(diego.verified)###ver si esta verificado\n",
    "print(diego.statuses_count)##Numero de status\n",
    "print(diego.location)###donde vive\n",
    "print(diego.friends_count)###cuantas personas lo siguen\n",
    "\n",
    "###enviar mensaje privado\n"
   ]
  },
  {
   "cell_type": "code",
   "execution_count": null,
   "metadata": {},
   "outputs": [],
   "source": [
    "yo = api.me()\n",
    "print(yo.profile_image_url)\n",
    "api.update_status(\"Hola @ChockoNorris, ya sube tus temas al github (desde python)\") #publicar su bio \n",
    "api.update_with_media(\"perritosMalvados.jpg\",\"Que honda @Galigaribaldi, te estoy posteando unos perritos Malvados\")"
   ]
  },
  {
   "cell_type": "code",
   "execution_count": null,
   "metadata": {},
   "outputs": [],
   "source": [
    "###Buscar un texto en twitter y ver que honda con su autor, texto y metadatos\n",
    "\n",
    "busc = api.search(\"proteco\",show_user = True)\n",
    "for i in busc:\n",
    "    print(i.author.name)\n",
    "    print(i.text)\n",
    "    print(i.metadata)\n",
    "    print(\"##################\")\n"
   ]
  },
  {
   "cell_type": "code",
   "execution_count": null,
   "metadata": {},
   "outputs": [],
   "source": [
    "#obtener la imagen de tu crush\n",
    "import requests\n",
    "f = open(\"programacionGali.jpg\",\"wb\")\n",
    "galileo = api.get_user(\"@Galigaribaldi\")\n",
    "url = galileo.profile_image_url\n",
    "url = url.replace(\"_normal\",\"\")\n",
    "print(url)\n",
    "f.write(requests.get(url).content)\n",
    "f.close()"
   ]
  },
  {
   "cell_type": "code",
   "execution_count": null,
   "metadata": {},
   "outputs": [],
   "source": [
    "api.create_friendship(\"@ChockoNorris\")\n",
    "###creamos amistad con diego\n",
    "api.followers_ids(\"@ChockoNorris\")##ids de los seguidores de diego, pueden ser usados como parametro\n",
    "##en cualquier funcion donde pasamos nombres"
   ]
  },
  {
   "cell_type": "code",
   "execution_count": null,
   "metadata": {},
   "outputs": [],
   "source": [
    "##Ver donde hay trends existentes\n",
    "lugaresConTrends = api.trends_available()\n",
    "listaMX = []\n",
    "for i in lugaresConTrends:\n",
    "    if i['countryCode'] == 'MX': ###Obtenemos los de mexico\n",
    "        listaMX.append(i)\n",
    "#pp(lugaresConTrends)\n",
    "pp(listaMX)"
   ]
  },
  {
   "cell_type": "code",
   "execution_count": null,
   "metadata": {},
   "outputs": [],
   "source": [
    "woeid = 133327##Se obtiene del anterior, en este caso es el de merida# Where On Earth IDentifier\n",
    "trends = api.trends_place(woeid) ### trends es una lista con cada uno de los trends,\n",
    "pp(trends)\n",
    "data = trends[0] ##arreglo de que contiene trends en formato json\n",
    "trending = data[\"trends\"] ##Obtenemos los trends, ignorando lo demas\n",
    "\n",
    "####Diccionario con los trends \n",
    "for i in trending:\n",
    "    print(i[\"name\"])\n",
    "    print(i[\"url\"])\n"
   ]
  },
  {
   "cell_type": "code",
   "execution_count": null,
   "metadata": {},
   "outputs": [],
   "source": []
  },
  {
   "cell_type": "code",
   "execution_count": null,
   "metadata": {},
   "outputs": [],
   "source": []
  }
 ],
 "metadata": {
  "kernelspec": {
   "display_name": "Python 3",
   "language": "python",
   "name": "python3"
  },
  "language_info": {
   "codemirror_mode": {
    "name": "ipython",
    "version": 3
   },
   "file_extension": ".py",
   "mimetype": "text/x-python",
   "name": "python",
   "nbconvert_exporter": "python",
   "pygments_lexer": "ipython3",
   "version": "3.7.3"
  }
 },
 "nbformat": 4,
 "nbformat_minor": 2
}
